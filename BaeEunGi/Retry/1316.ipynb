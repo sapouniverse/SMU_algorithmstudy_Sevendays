{
 "cells": [
  {
   "cell_type": "markdown",
   "metadata": {},
   "source": [
    "- 연속된 2개의 요소들 사이의 관계를 따지고 새로운 변수에 저장하는 방식을 반복"
   ]
  },
  {
   "cell_type": "code",
   "execution_count": 1,
   "metadata": {},
   "outputs": [
    {
     "name": "stdout",
     "output_type": "stream",
     "text": [
      "3\n",
      "aassdd\n",
      "dfdssdsfdsf\n",
      "ssffd\n",
      "2\n"
     ]
    }
   ],
   "source": [
    "n = int(input())\n",
    "group = 0\n",
    "for i in range(n):\n",
    "    word = input()\n",
    "    temp = 0\n",
    "    for j in range(len(word)-1):\n",
    "        if word[j] != word[j+1]:\n",
    "            word2 = word[j+1:]\n",
    "            if word2.count(word[j]) > 0:\n",
    "                temp = temp+1\n",
    "    if temp == 0:\n",
    "        group = group+1\n",
    "print(group)"
   ]
  },
  {
   "cell_type": "markdown",
   "metadata": {},
   "source": [
    "- 처음에 입력받는 단어들을 리스트에 저장한 후 진행하는 코드를 짜보았는데 실패했다. 아직도 이유를 모르겠다 제길"
   ]
  },
  {
   "cell_type": "code",
   "execution_count": 16,
   "metadata": {
    "scrolled": true
   },
   "outputs": [
    {
     "name": "stdout",
     "output_type": "stream",
     "text": [
      "4\n",
      "aass\n",
      "dsadasdr\n",
      "fdafebsdsdddbgsddda\n",
      "fddfsfdssgss\n",
      "4\n"
     ]
    }
   ],
   "source": [
    "n = int(input())\n",
    "group = 0\n",
    "word = []\n",
    "for i in range(n):\n",
    "    word.append(input())\n",
    "for i in range(n):\n",
    "    temp = 0\n",
    "    for j in range(len(word)-1):\n",
    "        if word[i][j] != word[i][j+1]:\n",
    "            word2 = word[i][j+1:]\n",
    "            if word2.count(word[j]) > 0:\n",
    "                temp = temp+1\n",
    "    if temp == 0:\n",
    "        group = group+1\n",
    "print(group)"
   ]
  }
 ],
 "metadata": {
  "kernelspec": {
   "display_name": "Python 3",
   "language": "python",
   "name": "python3"
  },
  "language_info": {
   "codemirror_mode": {
    "name": "ipython",
    "version": 3
   },
   "file_extension": ".py",
   "mimetype": "text/x-python",
   "name": "python",
   "nbconvert_exporter": "python",
   "pygments_lexer": "ipython3",
   "version": "3.8.6"
  }
 },
 "nbformat": 4,
 "nbformat_minor": 4
}
