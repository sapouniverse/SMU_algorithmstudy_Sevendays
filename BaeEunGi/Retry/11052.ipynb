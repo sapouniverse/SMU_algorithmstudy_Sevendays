{
 "cells": [
  {
   "cell_type": "markdown",
   "metadata": {},
   "source": [
    "## 다이나믹 프로그래밍과 관련이 있다.\n",
    "- M[n] 배열은 n개의 최댓값을 저장하는 리스트\n",
    "- p의 배열은 입력을 받는 각각의 가격. (p[0]에는 0을 넣어주고 시작)\n",
    
    "**M[2] = M[1] + p[1] or M[0] + p[2]\n",
    "M[3] = M[2] + p[1] or M[1] + p[2] or M[0] + p[3]\n",
    "M[4] = M[3] + p[1] or M[2] + p[2] or M[1] + p[3] or M[0] + p[4]**\n",
    "- 위와 같이 작게 생각을 시작하여 확장 시키면 아래와 같은 코드가 나온다."
   ]
  },
  {
   "cell_type": "code",
   "execution_count": null,
   "metadata": {},
   "outputs": [],
   "source": [
    "n = int(input())\n",
    "M = [0]*(n+1)\n",
    "p = [0]+list(map(int, input().split()))\n",
    "M[1] = p[1]\n",
    "for i in range(2, n+1):\n",
    "    for j in range(1, i+1):\n",
    "        if M[i] < M[i-j]+p[j]:\n",
    "            M[i] = M[i-j]+p[j]\n",
    "print(M[n])"
   ]
  }
 ],
 "metadata": {
  "kernelspec": {
   "display_name": "Python 3",
   "language": "python",
   "name": "python3"
  },
  "language_info": {
   "codemirror_mode": {
    "name": "ipython",
    "version": 3
   },
   "file_extension": ".py",
   "mimetype": "text/x-python",
   "name": "python",
   "nbconvert_exporter": "python",
   "pygments_lexer": "ipython3",
   "version": "3.8.6"
  }
 },
 "nbformat": 4,
 "nbformat_minor": 4
}
