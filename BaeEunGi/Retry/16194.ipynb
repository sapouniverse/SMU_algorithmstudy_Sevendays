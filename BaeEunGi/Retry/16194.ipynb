{
 "cells": [
  {
   "cell_type": "markdown",
   "metadata": {},
   "source": [
    "## 11052번과 같은 맥락이다.\n",
    "- 유일한 차이점은 최솟값을 구해야 하기에 m[i]값이 계속 0이면 안된다는 것이다.\n",
    "- 그래서 아래와 같이 if, else 문을 활용하여 튜닝해주면 된다."
   ]
  },
  {
   "cell_type": "code",
   "execution_count": null,
   "metadata": {},
   "outputs": [],
   "source": [
    "n = int(input())\n",
    "m = [0]*(n+1)\n",
    "p = [0]+list(map(int, input().split()))\n",
    "for i in range(1,n+1):\n",
    "    for j in range(1,i+1):\n",
    "        if m[i] != 0:\n",
    "            m[i] = min(m[i], m[i-j] + p[j])\n",
    "        else:\n",
    "            m[i] = m[i-j]+p[j]\n",
    "print(m[n])"
   ]
  }
 ],
 "metadata": {
  "kernelspec": {
   "display_name": "Python 3",
   "language": "python",
   "name": "python3"
  },
  "language_info": {
   "codemirror_mode": {
    "name": "ipython",
    "version": 3
   },
   "file_extension": ".py",
   "mimetype": "text/x-python",
   "name": "python",
   "nbconvert_exporter": "python",
   "pygments_lexer": "ipython3",
   "version": "3.8.6"
  }
 },
 "nbformat": 4,
 "nbformat_minor": 4
}
