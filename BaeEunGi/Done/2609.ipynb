{
 "cells": [
  {
   "cell_type": "code",
   "execution_count": null,
   "metadata": {},
   "outputs": [],
   "source": [
    "a,b = map(int,input().split())\n",
    "def gcd(a,b):\n",
    "    mod = a % b\n",
    "    while mod >0:\n",
    "        a = b\n",
    "        b = mod\n",
    "        mod = a % b\n",
    "    return b\n",
    "\n",
    "def lcm(a, b):\n",
    "    return a * b // gcd(a,b)\n",
    "\n",
    "print(gcd(a, b))\n",
    "print(lcm(a, b))\n",
    "\n",
    "#Euclidean Algorithm"
   ]
  }
 ],
 "metadata": {
  "kernelspec": {
   "display_name": "Python 3",
   "language": "python",
   "name": "python3"
  },
  "language_info": {
   "codemirror_mode": {
    "name": "ipython",
    "version": 3
   },
   "file_extension": ".py",
   "mimetype": "text/x-python",
   "name": "python",
   "nbconvert_exporter": "python",
   "pygments_lexer": "ipython3",
   "version": "3.8.6"
  }
 },
 "nbformat": 4,
 "nbformat_minor": 4
}
