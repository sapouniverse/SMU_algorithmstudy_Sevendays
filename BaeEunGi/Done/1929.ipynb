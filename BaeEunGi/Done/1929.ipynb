{
 "cells": [
  {
   "cell_type": "markdown",
   "metadata": {},
   "source": [
    "- 자잘한 예외 케이스까지 생각해주면 비교적 쉬움"
   ]
  },
  {
   "cell_type": "code",
   "execution_count": 16,
   "metadata": {},
   "outputs": [
    {
     "name": "stdout",
     "output_type": "stream",
     "text": [
      "3 16\n",
      "3\n",
      "5\n",
      "7\n",
      "11\n",
      "13\n"
     ]
    }
   ],
   "source": [
    "m,n = map(int,input().split())\n",
    "n = n+1 #for문 사용을 위한 n+1\n",
    "check = [0]*n\n",
    "for i in range(2,int(n**0.5)+1): #n의 제곱근까지만 검사해도 된다.\n",
    "    if check[i]==0:\n",
    "        for j in range(2*i, n, i):\n",
    "            check[j] = 1        \n",
    "for i in range(m,n):\n",
    "    if i>1 and check[i] == 0:\n",
    "        print(i)"
   ]
  }
 ],
 "metadata": {
  "kernelspec": {
   "display_name": "Python 3",
   "language": "python",
   "name": "python3"
  },
  "language_info": {
   "codemirror_mode": {
    "name": "ipython",
    "version": 3
   },
   "file_extension": ".py",
   "mimetype": "text/x-python",
   "name": "python",
   "nbconvert_exporter": "python",
   "pygments_lexer": "ipython3",
   "version": "3.8.6"
  }
 },
 "nbformat": 4,
 "nbformat_minor": 4
}
