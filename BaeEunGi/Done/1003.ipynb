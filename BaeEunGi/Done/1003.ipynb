{
 "cells": [
  {
   "cell_type": "markdown",
   "metadata": {},
   "source": [
    "- 단순히 피보나치 수열을 계산 할 때 같이 값을 갱신 시켜주었다.\n",
    "- 계속 계산을 해야하니 시간 초과가 발생했다."
   ]
  },
  {
   "cell_type": "code",
   "execution_count": 6,
   "metadata": {},
   "outputs": [
    {
     "name": "stdout",
     "output_type": "stream",
     "text": [
      "3\n",
      "0\n",
      "1\n",
      "3\n",
      "1 0\n",
      "0 1\n",
      "1 2\n"
     ]
    }
   ],
   "source": [
    "def fibonacci(n):\n",
    "    global num0, num1\n",
    "    if (n == 0):\n",
    "        num0 = num0 + 1\n",
    "        return 0\n",
    "    elif (n == 1):\n",
    "        num1 = num1 + 1\n",
    "        return 1\n",
    "    else:\n",
    "        return fibonacci(n-1) + fibonacci(n-2)\n",
    "fibolist = []\n",
    "a = int(input())\n",
    "for i in range(a):\n",
    "    fibolist.append(input())\n",
    "for i in range(a):\n",
    "    num0 = 0\n",
    "    num1 = 0\n",
    "    fibonacci(int(fibolist[i]))\n",
    "    print(num0, num1)"
   ]
  },
  {
   "cell_type": "markdown",
   "metadata": {},
   "source": [
    "- 알고보니 0과 1이 출력되는 횟수 또한 피보나치 수열을 따라가는 사실을 알게되었고 수정했다."
   ]
  },
  {
   "cell_type": "code",
   "execution_count": 10,
   "metadata": {},
   "outputs": [
    {
     "name": "stdout",
     "output_type": "stream",
     "text": [
      "3\n",
      "0\n",
      "1\n",
      "3\n",
      "1 0\n",
      "0 1\n",
      "1 2\n"
     ]
    }
   ],
   "source": [
    "t = int(input())\n",
    "FL = []\n",
    "for i in range(t):\n",
    "    FL.append(input())\n",
    "for i in range(t):\n",
    "    zero = 1\n",
    "    one = 0\n",
    "    tmp = 0\n",
    "    n = int(FL[i])\n",
    "    for i in range(n):\n",
    "        tmp = one\n",
    "        one = one + zero\n",
    "        zero = tmp\n",
    "    print(zero, one)"
   ]
  }
 ],
 "metadata": {
  "kernelspec": {
   "display_name": "Python 3",
   "language": "python",
   "name": "python3"
  },
  "language_info": {
   "codemirror_mode": {
    "name": "ipython",
    "version": 3
   },
   "file_extension": ".py",
   "mimetype": "text/x-python",
   "name": "python",
   "nbconvert_exporter": "python",
   "pygments_lexer": "ipython3",
   "version": "3.8.6"
  }
 },
 "nbformat": 4,
 "nbformat_minor": 4
}
