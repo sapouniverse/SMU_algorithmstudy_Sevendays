{
 "cells": [
  {
   "cell_type": "markdown",
   "metadata": {},
   "source": [
    "- **sys를 import하면 메모리 초과 없이 가능해진다**\n",
    "\n",
    "- **각 숫자의 개수를 저장하는 배열을 만들고 인덱스가 가르키는 곳이 0 인 곳은 제외하고 출력**"
   ]
  },
  {
   "cell_type": "code",
   "execution_count": null,
   "metadata": {},
   "outputs": [],
   "source": [
    "import sys\n",
    "a = int(sys.stdin.readline())\n",
    "List = [0]*10001\n",
    "for i in range(a):\n",
    "    b = int(sys.stdin.readline())\n",
    "    List[b] = List[b]+1\n",
    "    \n",
    "for i in range(10001):\n",
    "    if List[i] != 0:\n",
    "        for j in range(int(List[i])):\n",
    "            print(i)"
   ]
  }
 ],
 "metadata": {
  "kernelspec": {
   "display_name": "Python 3",
   "language": "python",
   "name": "python3"
  },
  "language_info": {
   "codemirror_mode": {
    "name": "ipython",
    "version": 3
   },
   "file_extension": ".py",
   "mimetype": "text/x-python",
   "name": "python",
   "nbconvert_exporter": "python",
   "pygments_lexer": "ipython3",
   "version": "3.8.6"
  }
 },
 "nbformat": 4,
 "nbformat_minor": 4
}
