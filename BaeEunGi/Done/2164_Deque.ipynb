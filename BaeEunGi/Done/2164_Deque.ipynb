{
 "cells": [
  {
   "cell_type": "code",
   "execution_count": 2,
   "metadata": {},
   "outputs": [
    {
     "name": "stdout",
     "output_type": "stream",
     "text": [
      "4\n",
      "4\n"
     ]
    }
   ],
   "source": [
    "from collections import deque\n",
    "\n",
    "N = int(input())\n",
    "deque = deque([i for i in range(1, N + 1)]) #1~N까지 리스트 생성\n",
    "\n",
    "while(not (len(deque) == 1)): #원소의 개수가 1개가 아닌 동안\n",
    "    deque.popleft()  #맨 왼쪽 pop\n",
    "    move_num = deque.popleft() #그다음 왼쪽 pop\n",
    "    deque.append(move_num) #오른쪽으로 넣어주기\n",
    "\n",
    "print(deque[0])"
   ]
  }
 ],
 "metadata": {
  "kernelspec": {
   "display_name": "Python 3",
   "language": "python",
   "name": "python3"
  },
  "language_info": {
   "codemirror_mode": {
    "name": "ipython",
    "version": 3
   },
   "file_extension": ".py",
   "mimetype": "text/x-python",
   "name": "python",
   "nbconvert_exporter": "python",
   "pygments_lexer": "ipython3",
   "version": "3.8.6"
  }
 },
 "nbformat": 4,
 "nbformat_minor": 4
}
